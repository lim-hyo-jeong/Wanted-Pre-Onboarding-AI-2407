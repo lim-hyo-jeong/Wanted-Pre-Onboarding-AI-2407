{
 "cells": [
  {
   "cell_type": "markdown",
   "metadata": {},
   "source": [
    "# 보고서 키워드 추출 및 요약 "
   ]
  },
  {
   "cell_type": "markdown",
   "metadata": {},
   "source": [
    "## 세팅"
   ]
  },
  {
   "cell_type": "code",
   "execution_count": 1,
   "metadata": {},
   "outputs": [],
   "source": [
    "import openai \n",
    "import time \n",
    "import json \n",
    "import os \n",
    "from tqdm import tqdm\n",
    "from dotenv import load_dotenv\n",
    "\n",
    "\n",
    "load_dotenv()\n",
    "openai.api_key = os.getenv('OPENAI_API_KEY')"
   ]
  },
  {
   "cell_type": "code",
   "execution_count": null,
   "metadata": {},
   "outputs": [],
   "source": [
    "def load_jsonl_data(path):\n",
    "    data = []\n",
    "    with open(path, 'r', encoding='utf-8') as f:\n",
    "        for line in f:\n",
    "            data.append(json.loads(line))\n",
    "    return data\n",
    "\n",
    "\n",
    "def save_to_jsonl_file(data, path): \n",
    "    with open(path, encoding='utf-8', mode='w') as f:\n",
    "        for entry in data:\n",
    "            json.dump(entry, f, ensure_ascii=False)\n",
    "            f.write('\\n')"
   ]
  },
  {
   "cell_type": "markdown",
   "metadata": {},
   "source": [
    "## OpenAI API (GPT)"
   ]
  },
  {
   "cell_type": "code",
   "execution_count": 2,
   "metadata": {},
   "outputs": [],
   "source": [
    "def get_response_gpt(system_message, user_message, model_name, temperature, max_tokens, top_p, retry_attempts=3, delay=5):\n",
    "    messages = [\n",
    "        {\n",
    "            \"role\": \"system\",\n",
    "            \"content\": system_message,\n",
    "        },\n",
    "        {\n",
    "            \"role\": \"user\",\n",
    "            \"content\": user_message,\n",
    "        },\n",
    "    ]\n",
    "\n",
    "    attempts = 0\n",
    "    while attempts < retry_attempts:\n",
    "        try:\n",
    "            response = openai.ChatCompletion.create(\n",
    "                model=model_name, \n",
    "                messages=messages,\n",
    "                temperature=temperature,\n",
    "                max_tokens=max_tokens,\n",
    "                top_p=top_p\n",
    "                )\n",
    "            return response['choices'][0]['message']['content']\n",
    "        except openai.error.InvalidRequestError as e:\n",
    "            error_message = str(e)\n",
    "            print(f\"Invalid request error: {error_message}\")\n",
    "            return None\n",
    "        except openai.error.APIError as e:\n",
    "            print(f\"API error on attempt {attempts + 1}: {e}\")\n",
    "            attempts += 1\n",
    "            time.sleep(delay)\n",
    "\n",
    "    print(\"Max retries reached, skipping this data.\")\n",
    "    return None\n",
    "\n",
    "\n",
    "def save_dataset_gpt(data, save_path, model_name, system_message, user_message, params):\n",
    "\n",
    "    if os.path.exists(save_path):\n",
    "        dataset = load_jsonl_data(save_path)\n",
    "    else:\n",
    "        dataset = []\n",
    "\n",
    "    print(f\"existing dataset length: {len(dataset)}\")\n",
    "    existing_datas = {item['idx'] for item in dataset}\n",
    "\n",
    "    with open(save_path, \"a\", encoding='utf-8') as f:\n",
    "        for idx, entry in tqdm(enumerate(data)):\n",
    "            if idx in existing_datas:\n",
    "                continue\n",
    "\n",
    "            doc = entry[\"content\"]\n",
    "            temperature = params[\"temperature\"]\n",
    "            max_tokens = params[\"max_tokens\"]\n",
    "            top_p = params[\"top_p\"] \n",
    "\n",
    "            response = get_response_gpt(system_message, user_message.format(document=doc), model_name, temperature, max_tokens, top_p)\n",
    "\n",
    "            new_entry = {\"idx\": idx, \"document\": doc, \"response\": response}\n",
    "            dataset.append(new_entry)\n",
    "\n",
    "            json.dump(new_entry, f, ensure_ascii=False)\n",
    "            f.write('\\n')\n",
    "\n",
    "    return dataset"
   ]
  },
  {
   "cell_type": "markdown",
   "metadata": {},
   "source": [
    "## run "
   ]
  },
  {
   "cell_type": "code",
   "execution_count": 3,
   "metadata": {},
   "outputs": [
    {
     "name": "stdout",
     "output_type": "stream",
     "text": [
      "existing dataset length: 0\n"
     ]
    },
    {
     "name": "stderr",
     "output_type": "stream",
     "text": [
      "10it [00:27,  2.70s/it]"
     ]
    },
    {
     "name": "stdout",
     "output_type": "stream",
     "text": [
      "Dataset processed and saved. Total entries: 10\n"
     ]
    },
    {
     "name": "stderr",
     "output_type": "stream",
     "text": [
      "\n"
     ]
    }
   ],
   "source": [
    "data_path = \"document.jsonl\"\n",
    "save_path = \"response.jsonl\"\n",
    "model_name = 'gpt-4o'\n",
    "\n",
    "system_message = \"### INSTRUCTION ###\\n당신은 텍스트 분석 및 요약 전문가입니다. 아래 문서에서 가장 핵심적인 키워드들을 추출하여 리스트 형식으로 제공해주세요. 줄바꿈을 하여 문서의 내용을 3문장 이내로 요약해주세요. 요약 시에는 '~이다'와 같은 종결 어미를 사용하세요. 다른 부차적인 말 없이 키워드 및 요약만 추출하세요.\\n\\n### OUTPUT FORMAT ###\\n['키워드1', '키워드2', '키워드3', ...]\\n'요약내용'\"\n",
    "user_message = \"### DOCUMENT ###\\n{document}\"\n",
    "\n",
    "params = {\n",
    "    'temperature': 0.5,\n",
    "    'max_tokens': 500,\n",
    "    'top_p': 1,\n",
    "}\n",
    "\n",
    "data = load_jsonl_data(data_path)\n",
    "dataset = save_dataset_gpt(data, save_path, model_name, system_message, user_message, params)\n",
    "print(f\"Dataset processed and saved. Total entries: {len(dataset)}\")"
   ]
  },
  {
   "cell_type": "markdown",
   "metadata": {},
   "source": [
    "# json format으로 응답받기 (파싱 용이, 일관된 품질 향상)"
   ]
  },
  {
   "cell_type": "markdown",
   "metadata": {},
   "source": [
    "## OpenAI API (GPT)"
   ]
  },
  {
   "cell_type": "code",
   "execution_count": null,
   "metadata": {},
   "outputs": [],
   "source": [
    "def get_response_gpt(system_message, user_message, model_name, temperature, max_tokens, top_p, retry_attempts=3, delay=5):\n",
    "    json_format = {\"type\": \"json_object\"}\n",
    "    messages = [\n",
    "        {\n",
    "            \"role\": \"system\",\n",
    "            \"content\": system_message,\n",
    "        },\n",
    "        {\n",
    "            \"role\": \"user\",\n",
    "            \"content\": user_message,\n",
    "        },\n",
    "    ]\n",
    "\n",
    "    attempts = 0\n",
    "    while attempts < retry_attempts:\n",
    "        try:\n",
    "            response = openai.ChatCompletion.create(\n",
    "                model=model_name, \n",
    "                messages=messages,\n",
    "                temperature=temperature,\n",
    "                max_tokens=max_tokens,\n",
    "                top_p=top_p,\n",
    "                response_format=json_format,\n",
    "                )\n",
    "            return response['choices'][0]['message']['content']\n",
    "        except openai.error.InvalidRequestError as e:\n",
    "            error_message = str(e)\n",
    "            print(f\"Invalid request error: {error_message}\")\n",
    "            return None\n",
    "        except openai.error.APIError as e:\n",
    "            print(f\"API error on attempt {attempts + 1}: {e}\")\n",
    "            attempts += 1\n",
    "            time.sleep(delay)\n",
    "\n",
    "    print(\"Max retries reached, skipping this data.\")\n",
    "    return None\n"
   ]
  },
  {
   "cell_type": "markdown",
   "metadata": {},
   "source": [
    "## run"
   ]
  },
  {
   "cell_type": "code",
   "execution_count": 6,
   "metadata": {},
   "outputs": [
    {
     "name": "stdout",
     "output_type": "stream",
     "text": [
      "existing dataset length: 0\n"
     ]
    },
    {
     "name": "stderr",
     "output_type": "stream",
     "text": [
      "10it [00:32,  3.20s/it]"
     ]
    },
    {
     "name": "stdout",
     "output_type": "stream",
     "text": [
      "Dataset processed and saved. Total entries: 10\n"
     ]
    },
    {
     "name": "stderr",
     "output_type": "stream",
     "text": [
      "\n"
     ]
    }
   ],
   "source": [
    "data_path = \"document.jsonl\"\n",
    "save_path = \"response_json.jsonl\"\n",
    "model_name = 'gpt-4o'\n",
    "\n",
    "system_message = \"### INSTRUCTION ###\\n당신은 텍스트 분석 및 요약 전문가입니다. 아래 문서에서 가장 핵심적인 키워드들을 추출하여 리스트 형식으로 만들고 문서의 내용을 3문장 이내로 요약하여 JSON 형태로 제공하세요. 요약 시에는 '~이다'와 같은 종결 어미를 사용하세요.\\n\\n### OUTPUT FORMAT ###\\n{{\\n  \\\"keywords\\\": \\\"list\\\",\\n \\\"summary\\\": \\\"string\\\",\\n}}\"\n",
    "user_message = \"### DOCUMENT ###\\n{document}\"\n",
    "\n",
    "params = {\n",
    "    'temperature': 0.5,\n",
    "    'max_tokens': 500,\n",
    "    'top_p': 1,\n",
    "}\n",
    "\n",
    "data = load_jsonl_data(data_path)\n",
    "dataset = save_dataset_gpt(data, save_path, model_name, system_message, user_message, params)\n",
    "print(f\"Dataset processed and saved. Total entries: {len(dataset)}\")"
   ]
  }
 ],
 "metadata": {
  "kernelspec": {
   "display_name": "lhj_env",
   "language": "python",
   "name": "python3"
  },
  "language_info": {
   "codemirror_mode": {
    "name": "ipython",
    "version": 3
   },
   "file_extension": ".py",
   "mimetype": "text/x-python",
   "name": "python",
   "nbconvert_exporter": "python",
   "pygments_lexer": "ipython3",
   "version": "3.11.9"
  }
 },
 "nbformat": 4,
 "nbformat_minor": 2
}

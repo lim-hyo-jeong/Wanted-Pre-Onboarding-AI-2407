{
 "cells": [
  {
   "cell_type": "markdown",
   "metadata": {},
   "source": [
    "# LangSmith Prompt Versioning"
   ]
  },
  {
   "cell_type": "code",
   "execution_count": 1,
   "metadata": {},
   "outputs": [],
   "source": [
    "from langchain_openai import ChatOpenAI\n",
    "from dotenv import load_dotenv\n",
    "import openai \n",
    "import os \n",
    "\n",
    "load_dotenv()\n",
    "openai.api_key = os.getenv('OPENAI_API_KEY')"
   ]
  },
  {
   "cell_type": "markdown",
   "metadata": {},
   "source": [
    "# pull a prompt "
   ]
  },
  {
   "cell_type": "code",
   "execution_count": 2,
   "metadata": {},
   "outputs": [
    {
     "data": {
      "text/plain": [
       "ChatPromptTemplate(input_variables=['rating', 'review'], metadata={'lc_hub_owner': '-', 'lc_hub_repo': 'review_sentiment_classifier_ko', 'lc_hub_commit_hash': '8c40f2a379d5d7bb2a435cca901d725dbaade6c6a3c6dfd6e3bfb62888dc6e1c'}, messages=[SystemMessagePromptTemplate(prompt=PromptTemplate(input_variables=[], template='### 역할 ###\\n당신은 리뷰 분석 전문가입니다. 다음 정보를 바탕으로 평점 및 리뷰의 감성을 긍정, 중립, 부정 중 하나로 분류하세요. 평점은 10점 만점이며, 주의할 점은 평점과 리뷰 내용이 항상 일치하지 않을 수 있다는 것입니다.\\n\\n### 분석 단계 ###\\n1. 평점 확인: 높음(7-10), 중간(4-6), 낮음(0-3) 중 어디에 해당하는지 파악합니다.\\n2. 리뷰 내용 분석: 긍정적 표현, 부정적 표현, 중립적 표현을 식별합니다.\\n3. 종합 평가: 평점과 리뷰 내용 사이에 불일치가 있을 수 있습니다. 평점과 리뷰 내용을 종합적으로 고려하여 최종 감성을 판단합니다. 객관적으로 판단해주세요. \\n\\n### 출력 결과 형식 ###\\n부차적인 말 없이 긍정, 중립, 부정 중 하나의 분류 결과만 출력하세요. ')), HumanMessagePromptTemplate(prompt=PromptTemplate(input_variables=['rating', 'review'], template='평점: {rating}\\n리뷰: {review}'))])"
      ]
     },
     "execution_count": 2,
     "metadata": {},
     "output_type": "execute_result"
    }
   ],
   "source": [
    "from langchain import hub \n",
    "\n",
    "prompt = hub.pull(\"review_sentiment_classifier_ko\") \n",
    "prompt"
   ]
  },
  {
   "cell_type": "code",
   "execution_count": 3,
   "metadata": {},
   "outputs": [
    {
     "name": "stdout",
     "output_type": "stream",
     "text": [
      "content='긍정' response_metadata={'token_usage': {'completion_tokens': 3, 'prompt_tokens': 377, 'total_tokens': 380}, 'model_name': 'gpt-3.5-turbo-0125', 'system_fingerprint': None, 'finish_reason': 'stop', 'logprobs': None} id='run-8b188ae9-a5ce-4658-9058-81e1bb31a9a8-0' usage_metadata={'input_tokens': 377, 'output_tokens': 3, 'total_tokens': 380}\n"
     ]
    }
   ],
   "source": [
    "from langchain import hub\n",
    "from langchain_openai import ChatOpenAI\n",
    "\n",
    "\n",
    "prompt = hub.pull(\"review_sentiment_classifier_ko\")\n",
    "\n",
    "model = ChatOpenAI()\n",
    "\n",
    "runnable = prompt | model\n",
    "response = runnable.invoke({\n",
    "\t\"rating\": 7,\n",
    "    \"review\": \"꿈에서도 먹고 싶은 아이스크림\",\n",
    "})\n",
    "\n",
    "print(response)"
   ]
  },
  {
   "cell_type": "code",
   "execution_count": 5,
   "metadata": {},
   "outputs": [
    {
     "name": "stdout",
     "output_type": "stream",
     "text": [
      "content='청년들을 위한 어떤 지원이 주거, 일자리, 교육 등에 대해 제공되는가?' response_metadata={'token_usage': {'completion_tokens': 38, 'prompt_tokens': 1119, 'total_tokens': 1157}, 'model_name': 'gpt-3.5-turbo-0125', 'system_fingerprint': None, 'finish_reason': 'stop', 'logprobs': None} id='run-48a01a5e-f291-4295-8671-5ac25e711248-0' usage_metadata={'input_tokens': 1119, 'output_tokens': 38, 'total_tokens': 1157}\n"
     ]
    }
   ],
   "source": [
    "from langchain import hub\n",
    "from langchain_openai import ChatOpenAI\n",
    "\n",
    "\n",
    "prompt = hub.pull(\"question_gen_ko\")\n",
    "\n",
    "model = ChatOpenAI()\n",
    "\n",
    "runnable = prompt | model\n",
    "response = runnable.invoke({\n",
    "    \"num_questions\": 1,\n",
    "\t\"context_str\": \"청년에게 주거·일자리·교육 등 맞춤형 지원 (국조실·국토부··고용부·중기부·교육부·)\\n□ 과제목표\\nㅇ 청년세대의 내 집 마련 기회 확대 등 주거사다리 복원\\nㅇ 청년특화 취·창업지원 확대를 통한 일자리 기회 창출\\nㅇ 신기술 분야 인재 양성 및 청년의 교육 기회 확대\\n□ 주요내용\\nㅇ (내 집 마련) 청년·신혼·생애최초 계층에 원가주택 등 50만호 공급, 청약 및 특별공급 제도개선으로 청년세대의 내 집 마련 기회 확대\\n- 청년 등 생애최초 주택구입 가구 LTV 상한 완화(60∼70% → 80%)를 추진하고, DSR 산정시 청년층 미래소득 반영 활성화 병행\\nㅇ (취업지원 혁신) 청년 고용서비스 혁신을 통해 재학 단계의 청년들에 조기개입하여 취업·경력설계 및 상담을 통한 맞춤형 서비스 제공\\n- 다양한 일경험 프로그램, 지방청년 위한 기업주도 프로그램 등 민·관 협업을 통한 양질의 일경험 기회 제공\\nㅇ (청년창업 기반 강화) 청소년 시기부터 창업인재를 양성하고, 청년의 과감한 창업도전과 성장을 촉진하는 패키지형 지원체계 구축\\nㅇ (미래역량 강화 지원) 신기술 분야 특화 교육과정을 운영하는 ‘부처 협업형 인재양성사업’ 확대 및 우수인재 조기 양성 위한 연구활동 지원 추진\\n- 군복무 중 학점취득 지원대학 확대\\nㅇ (교육 부담 완화) 국가장학금 내실화, 학자금 대출 저금리 유지 및 취업\\n후 상환 학자금 대출 지원 확대를 통해 학비 등 경제적 부담 완화\\n- 취업준비생의 안정적 사회진출을 위한 ‘(가칭)청년 취업 후 상환 대출제도’ 도입\\n□ 기대효과\\nㅇ 2030의 내 집 마련을 통해 주거 안정과 건전한 자산형성 기대\\nㅇ 노동시장 진입 활성화 및 창업 도전·성장 촉진으로 청년 취·창업 기회 확대\\nㅇ 부처 협업을 통해 신산업‧신기술분야 전문인재 양성 및 대학생 등록금\\n부담 경감하여 청년의 안정적 사회진출 지원\",\n",
    "})\n",
    "\n",
    "print(response)"
   ]
  },
  {
   "cell_type": "markdown",
   "metadata": {},
   "source": [
    "# push a prompt "
   ]
  },
  {
   "cell_type": "code",
   "execution_count": 6,
   "metadata": {},
   "outputs": [
    {
     "data": {
      "text/plain": [
       "'https://smith.langchain.com/prompts/pet_name_generator/fc6e78e1?organizationId=40a5a860-d3f0-57a6-a1ba-a7ed9bdf3c5d'"
      ]
     },
     "execution_count": 6,
     "metadata": {},
     "output_type": "execute_result"
    }
   ],
   "source": [
    "from langchain import hub\n",
    "from langchain.prompts.chat import ChatPromptTemplate\n",
    "\n",
    "prompt = ChatPromptTemplate.from_template(\"다음 설명을 바탕으로 반려동물의 이름을 지어주세요. 답변은 한국어로 해야 합니다.\\n동물 종류: {type}\\n성격: {temperament}\\n성별: {gender}\\n색깔: {color}\\n특징: {feature}\")\n",
    "\n",
    "hub.push(\"pet_name_generator\", prompt, new_repo_is_public=True)"
   ]
  }
 ],
 "metadata": {
  "kernelspec": {
   "display_name": "wanted2",
   "language": "python",
   "name": "python3"
  },
  "language_info": {
   "codemirror_mode": {
    "name": "ipython",
    "version": 3
   },
   "file_extension": ".py",
   "mimetype": "text/x-python",
   "name": "python",
   "nbconvert_exporter": "python",
   "pygments_lexer": "ipython3",
   "version": "3.11.9"
  }
 },
 "nbformat": 4,
 "nbformat_minor": 2
}

{
 "cells": [
  {
   "cell_type": "markdown",
   "metadata": {},
   "source": [
    "# 랭체인 툴 사용 예시 : 90년대 인기 애니메이션의 한국어 OST 유튜브 링크 가져오기 \n",
    "추적 확인 : https://smith.langchain.com/public/d795b123-8a9b-4199-b998-f304172008eb/r"
   ]
  },
  {
   "cell_type": "code",
   "execution_count": 1,
   "metadata": {},
   "outputs": [
    {
     "data": {
      "text/plain": [
       "AIMessage(content='Hello! How can I assist you today?', response_metadata={'token_usage': {'completion_tokens': 9, 'prompt_tokens': 11, 'total_tokens': 20}, 'model_name': 'gpt-3.5-turbo-0125', 'system_fingerprint': None, 'finish_reason': 'stop', 'logprobs': None}, id='run-5d95de64-fc49-4002-97a5-5063bd8dc66c-0', usage_metadata={'input_tokens': 11, 'output_tokens': 9, 'total_tokens': 20})"
      ]
     },
     "execution_count": 1,
     "metadata": {},
     "output_type": "execute_result"
    }
   ],
   "source": [
    "from langchain_openai import ChatOpenAI\n",
    "from dotenv import load_dotenv\n",
    "import openai \n",
    "import os \n",
    "\n",
    "load_dotenv()\n",
    "openai.api_key = os.getenv('OPENAI_API_KEY')\n",
    "\n",
    "llm = ChatOpenAI()\n",
    "llm.invoke(\"Hello, world!\")"
   ]
  },
  {
   "cell_type": "markdown",
   "metadata": {},
   "source": [
    "# tools "
   ]
  },
  {
   "cell_type": "code",
   "execution_count": 3,
   "metadata": {},
   "outputs": [
    {
     "data": {
      "text/plain": [
       "\"Jensen Huang cofounded graphics-chip maker Nvidia in 1993, and has served as its CEO and president ever since. Huang owns approximately 3% of Nvidia, which went public in 1999. Born in Taiwan ... Nvidia CEO Jensen Huang 60 Minutes Jensen Huang: This is Blackwell. Designed in America, but made in Taiwan like most advanced semiconductors, Blackwell, he says, is the fastest chip ever. Nvidia CEO Jensen Huang delivers his keynote speech ahead of Computex 2024 in Taipei on June 2, 2024. When Nvidia surpassed Apple this week to become America's second most valuable company, its ... Nvidia CEO Jensen Huang is now worth $113 billion, according to the Bloomberg Billionaire Index. His fortune has ballooned over the past year following a surge in Nvidia stock. Huang is now richer ... The rise of Jensen Huang, the Nvidia CEO who was born in Taiwan, raised in Kentucky, and is now one of the richest men on earth. Jane Thier. Thu, Feb 22, 2024, 1:06 PM 4 min read.\""
      ]
     },
     "execution_count": 3,
     "metadata": {},
     "output_type": "execute_result"
    }
   ],
   "source": [
    "from langchain_community.tools import DuckDuckGoSearchRun\n",
    "\n",
    "ddg_search = DuckDuckGoSearchRun()\n",
    "\n",
    "ddg_search.run(\"Who is the CEO of NVIDIA?\")"
   ]
  },
  {
   "cell_type": "code",
   "execution_count": 4,
   "metadata": {},
   "outputs": [
    {
     "name": "stdout",
     "output_type": "stream",
     "text": [
      "\u001b[32;1m\u001b[1;3m['https://www.youtube.com/watch?v=TWfBbgfxarA&pp=ygUGbnZpZGlh', 'https://www.youtube.com/watch?v=K5Dwc9ttyos&pp=ygUGbnZpZGlh']\u001b[0m"
     ]
    },
    {
     "data": {
      "text/plain": [
       "\"['https://www.youtube.com/watch?v=TWfBbgfxarA&pp=ygUGbnZpZGlh', 'https://www.youtube.com/watch?v=K5Dwc9ttyos&pp=ygUGbnZpZGlh']\""
      ]
     },
     "execution_count": 4,
     "metadata": {},
     "output_type": "execute_result"
    }
   ],
   "source": [
    "from langchain_community.tools import YouTubeSearchTool\n",
    "\n",
    "youtube_search = YouTubeSearchTool()\n",
    "\n",
    "youtube_search.run(\"nvidia\", 5)"
   ]
  },
  {
   "cell_type": "code",
   "execution_count": 5,
   "metadata": {},
   "outputs": [
    {
     "data": {
      "text/plain": [
       "\"Page: Nvidia\\nSummary: Nvidia Corporation (, en-VID-ee-ə) is an American multinational corporation and technology company headquartered in Santa Clara, California, and incorporated in Delaware. It is a software and fabless company which designs and supplies graphics processing units (GPUs), application programming interfaces (APIs) for data science and high-performance computing, as well as system on a chip units (SoCs) for the mobile computing and automotive market. Nvidia is also a dominant supplier of artificial intelligence (AI) hardware and software.\\nNvidia's professional line of GPUs are used for edge-to-cloud computing and in supercomputers and workstations for applications in such fields as architecture, engineering and construction, media and entertainment, automotive, scientific research, and manufacturing design. Its GeForce line of GPUs are aimed at the consumer market and are used in applications such as video editing, 3D rendering and PC gaming. With a market share of 80.2% in the second quarter of 2023, Nvidia leads the market for discrete desktop GPUs by a wide margin. The company expanded its presence in the gaming industry with the introduction of the Shield Portable (a handheld game console), Shield Tablet (a gaming tablet) and Shield TV (a digital media player), as well as its cloud gaming service GeForce Now.\\nIn addition to GPU design and manufacturing, Nvidia provides the CUDA software platform and API that allows the creation of massively parallel programs which utilize GPUs. They are deployed in supercomputing sites around the world. In the late 2000s, Nvidia had moved into the mobile computing market, where it produces Tegra mobile processors for smartphones and tablets as well as vehicle navigation and entertainment systems. Its competitors include AMD, Intel, Qualcomm and AI accelerator companies such as Cerebras and Graphcore. It also makes AI-powered software for audio and video processing (e.g., Nvidia Maxine).\\nNvidia's offer to acquire Arm from SoftBank in September 2020 failed to materialize following extended regulatory scrutiny, leading to the termination of the deal in February 2022 in what would have been the largest semiconductor acquisition. In 2023, Nvidia became the seventh public U.S. company to be valued at over $1 trillion, and the company's valuation has skyrocketed since then as the company became a leader in data center chips with AI capabilities in the midst of the AI boom. In June 2024, Nvidia overtook Microsoft as the world's most valuable publicly traded company, with a market capitalization of over $3.3 trillion.\\n\\nPage: List of Nvidia graphics processing units\\nSummary: This list contains general information about graphics processing units (GPUs) and video cards from Nvidia, based on official specifications. In addition some Nvidia motherboards come with integrated onboard GPUs. Limited/Special/Collectors' Editions or AIB versions are not included.\\n\\nPage: CUDA\\nSummary: In computing, CUDA (originally Compute Unified Device Architecture) is a proprietary parallel computing platform and application programming interface (API) that allows software to use certain types of graphics processing units (GPUs) for accelerated general-purpose processing, an approach called general-purpose computing on GPUs (GPGPU). CUDA API and its runtime: The CUDA API is an extension of the C programming language that adds the ability to specify thread-level parallelism in C and also to specify GPU device specific operations (like moving data between the CPU and the GPU).  CUDA is a software layer that gives direct access to the GPU's virtual instruction set and parallel computational elements for the execution of compute kernels. In addition to drivers and runtime kernels, the CUDA platform includes compilers, libraries and developer tools to help programmers accelerate their applications.\\nCUDA is designed to work with programming languages such as C, C++, Fortran and Python. This accessibility makes it \""
      ]
     },
     "execution_count": 5,
     "metadata": {},
     "output_type": "execute_result"
    }
   ],
   "source": [
    "from langchain_community.tools import WikipediaQueryRun\n",
    "from langchain_community.utilities import WikipediaAPIWrapper\n",
    "\n",
    "wikipedia = WikipediaQueryRun(api_wrapper=WikipediaAPIWrapper())\n",
    "wikipedia.run(\"nvidia\")"
   ]
  },
  {
   "cell_type": "markdown",
   "metadata": {},
   "source": [
    "# Agent"
   ]
  },
  {
   "cell_type": "code",
   "execution_count": 6,
   "metadata": {},
   "outputs": [],
   "source": [
    "from langchain_openai import ChatOpenAI\n",
    "from langchain.prompts import (\n",
    "    PromptTemplate,\n",
    "    ChatPromptTemplate,\n",
    "    MessagesPlaceholder,\n",
    "    SystemMessagePromptTemplate,\n",
    "    HumanMessagePromptTemplate,\n",
    ")\n",
    "\n",
    "llm = ChatOpenAI(model=\"gpt-4o\", temperature=0)\n",
    "\n",
    "system_prompt = \"\"\"You are an LLM agent equipped with three powerful tools: ddg_search, youtube_search, and wikipedia. Each tool has specific use cases to enhance your response generation. Follow these guidelines to determine when and how to use each tool:\n",
    "\n",
    "### ddg_earch ### \n",
    "Use Case: Use search for real-time information, current events, news articles, recent updates, or when specific knowledge about a new term, concept, or trend is required.\n",
    "Example Prompt: \"Search for the latest news on advancements in generative AI.\"\n",
    "\n",
    "### youtube_search ### \n",
    "Use Case: Use youtube_search when the user requests videos, tutorials, music, interviews, or any visual/audio content available on YouTube.\n",
    "Example Prompt: \"Find a video tutorial on how to use FastAPI for backend development.\"\n",
    "\n",
    "### wikipedia ### \n",
    "Use Case: Use wikipedia for comprehensive, encyclopedic information on well-established topics, historical events, biographical details, scientific concepts, and general knowledge.\n",
    "Example Prompt: \"Look up information on the history of the Eiffel Tower on Wikipedia.\"\n",
    "\n",
    "### Instructions ### \n",
    "Always select the most appropriate tool based on the user's query.\n",
    "Combine information from multiple tools when necessary to provide a comprehensive response.\n",
    "Ensure that your responses are accurate, relevant, and up-to-date.\"\"\"\n",
    "\n",
    "prompt = ChatPromptTemplate.from_messages(\n",
    "    [\n",
    "        SystemMessagePromptTemplate(prompt=PromptTemplate(input_variables=[], template=system_prompt)),\n",
    "        MessagesPlaceholder(variable_name='chat_history', optional=True),\n",
    "        HumanMessagePromptTemplate(prompt=PromptTemplate(input_variables=['input'], template='{input}')),\n",
    "        MessagesPlaceholder(variable_name='agent_scratchpad')\n",
    "    ]\n",
    ")"
   ]
  },
  {
   "cell_type": "code",
   "execution_count": 8,
   "metadata": {},
   "outputs": [],
   "source": [
    "from langchain.agents import create_openai_functions_agent\n",
    "from langchain.agents import AgentExecutor\n",
    "\n",
    "tools = [ddg_search, youtube_search, wikipedia]\n",
    "agent = create_openai_functions_agent(llm, tools, prompt)\n",
    "agent_executor = AgentExecutor(agent=agent, tools=tools, verbose=True) "
   ]
  },
  {
   "cell_type": "code",
   "execution_count": 9,
   "metadata": {},
   "outputs": [
    {
     "name": "stdout",
     "output_type": "stream",
     "text": [
      "\n",
      "\n",
      "\u001b[1m> Entering new AgentExecutor chain...\u001b[0m\n",
      "\u001b[32;1m\u001b[1;3m\n",
      "Invoking: `wikipedia` with `{'query': 'popular anime from the 1990s'}`\n",
      "\n",
      "\n",
      "\u001b[0m\u001b[38;5;200m\u001b[1;3mPage: History of anime in the United States\n",
      "Summary: The history of anime in the United States began in 1961, when Magic Boy and The White Snake Enchantress, both produced by Toei Animation, became the first and second anime films to receive documented releases in the country. Anime has since found success with a growing audience in the region, with Astro Boy often being noted as the first anime to receive widespread syndication, especially in the United States. Additionally, anime's growth in popularity in the US during the 1990s, commonly referred to as the \"anime boom,\" is credited with much of anime's enduring relevance to popular culture outside Japan.\n",
      "While many anime series have originally been distributed  by pirates and fansubbers in the past via bootleg releases from the late-1990s to mid-2000s, such practices have rapidly declined since the early-2010s due to the advent of legal streaming services such as Netflix, Prime Video, Hidive and Crunchyroll, which simulcast new anime series often within a few hours of their domestic release.\n",
      "\n",
      "Page: Anime\n",
      "Summary: Anime (Japanese: アニメ, IPA: [aꜜɲime] ) is hand-drawn and computer-generated animation originating from Japan. Outside Japan and in English, anime refers specifically to animation produced in Japan. However, in Japan and Japanese, anime (a term derived from a shortening of the English word animation) describes all animated works, regardless of style or origin. Many works of animation with a similar style to Japanese animation are also produced outside Japan. Video games sometimes also feature themes and art styles that are sometimes labelled as anime.\n",
      "The earliest commercial Japanese animation dates to 1917. A characteristic art style emerged in the 1960s with the works of cartoonist Osamu Tezuka and spread in following decades, developing a large domestic audience. Anime is distributed theatrically, through television broadcasts, directly to home media, and over the Internet. In addition to original works, anime are often adaptations of Japanese comics (manga), light novels, or video games. It is classified into numerous genres targeting various broad and niche audiences.\n",
      "Anime is a diverse medium with distinctive production methods that have adapted in response to emergent technologies. It combines graphic art, characterization, cinematography, and other forms of imaginative and individualistic techniques. Compared to Western animation, anime production generally focuses less on movement, and more on the detail of settings and use of \"camera effects\", such as panning, zooming, and angle shots. Diverse art styles are used, and character proportions and features can be quite varied, with a common characteristic feature being large and emotive eyes.\n",
      "The anime industry consists of over 430 production companies, including major studios such as Studio Ghibli, Kyoto Animation, Sunrise, Bones, Ufotable, MAPPA, Wit Studio, CoMix Wave Films, Production I.G, and Toei Animation. Since the 1980s, the medium has also seen widespread international success with the rise of foreign dubbed, subtitled programming, and since the 2010s due to the rise of streaming services and a widening demographic embrace of anime culture, both within Japan and worldwide. As of 2016, Japanese animation accounted for 60% of the world's animated television shows.\n",
      "\n",
      "Page: History of anime\n",
      "Summary: The history of anime can be traced back to the start of the 20th century, with the earliest verifiable films dating from 1917. Before the advent of film, Japan already had a rich tradition of entertainment with colourful painted figures moving across the projection screen in utsushi-e (写し絵), a particular Japanese type of magic lantern show popular in the 19th century. Possibly inspired by European phantasmagoria shows, utsushi-e showmen used mechanical slides and developed lightweight wooden projectors (furo) that were handheld so that several performers could each control the motions of different projected fig\u001b[0m\u001b[32;1m\u001b[1;3m\n",
      "Invoking: `duckduckgo_search` with `{'query': 'popular anime from the 1990s'}`\n",
      "\n",
      "\n",
      "\u001b[0m\u001b[36;1m\u001b[1;3m10 Best Anime of the 1990s, Ranked. Isaac Rouse. September 8, 2023, 3:00 pm. Much like the '80s, the 1990s were a transformative decade for anime, giving rise to various series that continue to ... The 12 Best '90s Anime, Ranked. Today's top anime shows like Frieren: Beyond Journey's End and Delicious in Dungeon, continue to captivate viewers — just as anime from the past have. In the '90s ... Toei's glittery giant of a Shoujo anime hit the scene in 1992, proving that girls can rule the anime world, thank you very much. It's Sailor Scouts kicking ass, taking names, and Tuxedo Mask doing… well, very little. A blueprint for every magical girl anime that followed. 12. Princess Mononoke. Cowboy Bebop is arguably the greatest anime triumph of the '90s, but one could extend that praise even further and say that it's one of the best pre-2000s anime. Anime. anime. Sailor Moon. The 1990s produced groundbreaking anime like DBZ and Trigun that helped the industry evolve. The 1990s was a golden era for anime where some of the most iconic and beloved series in anime history were aired. When anime enthusiasts discuss the best 90s anime, they often reminisce about a time when the industry was flourishing, where unforgettable characters and groundbreaking stories were created.\u001b[0m\u001b[32;1m\u001b[1;3m\n",
      "Invoking: `youtube_search` with `Neon Genesis Evangelion Korean OST,1`\n",
      "responded: Here are five popular anime from the 1990s:\n",
      "\n",
      "1. **Neon Genesis Evangelion (1995)**\n",
      "2. **Cowboy Bebop (1998)**\n",
      "3. **Sailor Moon (1992)**\n",
      "4. **Dragon Ball Z (1989-1996)**\n",
      "5. **Yu Yu Hakusho (1992-1995)**\n",
      "\n",
      "I will now search for YouTube links to the Korean OSTs for these anime.\n",
      "\n",
      "\u001b[0m\u001b[33;1m\u001b[1;3m['https://www.youtube.com/watch?v=eppqcuMJchQ&pp=ygUiTmVvbiBHZW5lc2lzIEV2YW5nZWxpb24gS29yZWFuIE9TVA%3D%3D']\u001b[0m\u001b[32;1m\u001b[1;3m\n",
      "Invoking: `youtube_search` with `Cowboy Bebop Korean OST,1`\n",
      "\n",
      "\n",
      "\u001b[0m\u001b[33;1m\u001b[1;3m['https://www.youtube.com/watch?v=v-F-bB6c5aU&pp=ygUXQ293Ym95IEJlYm9wIEtvcmVhbiBPU1Q%3D']\u001b[0m\u001b[32;1m\u001b[1;3m\n",
      "Invoking: `youtube_search` with `Sailor Moon Korean OST,1`\n",
      "\n",
      "\n",
      "\u001b[0m\u001b[33;1m\u001b[1;3m['https://www.youtube.com/watch?v=qErQA12w0oA&pp=ygUWU2FpbG9yIE1vb24gS29yZWFuIE9TVA%3D%3D']\u001b[0m\u001b[32;1m\u001b[1;3m\n",
      "Invoking: `youtube_search` with `Dragon Ball Z Korean OST,1`\n",
      "\n",
      "\n",
      "\u001b[0m\u001b[33;1m\u001b[1;3m['https://www.youtube.com/watch?v=vLanxuRgnoI&pp=ygUYRHJhZ29uIEJhbGwgWiBLb3JlYW4gT1NU']\u001b[0m\u001b[32;1m\u001b[1;3m\n",
      "Invoking: `youtube_search` with `Yu Yu Hakusho Korean OST,1`\n",
      "\n",
      "\n",
      "\u001b[0m\u001b[33;1m\u001b[1;3m['https://www.youtube.com/watch?v=lRezaTVzkGk&pp=ygUYWXUgWXUgSGFrdXNobyBLb3JlYW4gT1NU']\u001b[0m\u001b[32;1m\u001b[1;3mHere are the YouTube links to the Korean OSTs for the popular 1990s anime:\n",
      "\n",
      "1. **Neon Genesis Evangelion (1995)**\n",
      "   - [Korean OST](https://www.youtube.com/watch?v=eppqcuMJchQ&pp=ygUiTmVvbiBHZW5lc2lzIEV2YW5nZWxpb24gS29yZWFuIE9TVA%3D%3D)\n",
      "\n",
      "2. **Cowboy Bebop (1998)**\n",
      "   - [Korean OST](https://www.youtube.com/watch?v=v-F-bB6c5aU&pp=ygUXQ293Ym95IEJlYm9wIEtvcmVhbiBPU1Q%3D)\n",
      "\n",
      "3. **Sailor Moon (1992)**\n",
      "   - [Korean OST](https://www.youtube.com/watch?v=qErQA12w0oA&pp=ygUWU2FpbG9yIE1vb24gS29yZWFuIE9TVA%3D%3D)\n",
      "\n",
      "4. **Dragon Ball Z (1989-1996)**\n",
      "   - [Korean OST](https://www.youtube.com/watch?v=vLanxuRgnoI&pp=ygUYRHJhZ29uIEJhbGwgWiBLb3JlYW4gT1NU)\n",
      "\n",
      "5. **Yu Yu Hakusho (1992-1995)**\n",
      "   - [Korean OST](https://www.youtube.com/watch?v=lRezaTVzkGk&pp=ygUYWXUgWXUgSGFrdXNobyBLb3JlYW4gT1NU)\n",
      "\n",
      "Enjoy the music!\u001b[0m\n",
      "\n",
      "\u001b[1m> Finished chain.\u001b[0m\n",
      "Here are the YouTube links to the Korean OSTs for the popular 1990s anime:\n",
      "\n",
      "1. **Neon Genesis Evangelion (1995)**\n",
      "   - [Korean OST](https://www.youtube.com/watch?v=eppqcuMJchQ&pp=ygUiTmVvbiBHZW5lc2lzIEV2YW5nZWxpb24gS29yZWFuIE9TVA%3D%3D)\n",
      "\n",
      "2. **Cowboy Bebop (1998)**\n",
      "   - [Korean OST](https://www.youtube.com/watch?v=v-F-bB6c5aU&pp=ygUXQ293Ym95IEJlYm9wIEtvcmVhbiBPU1Q%3D)\n",
      "\n",
      "3. **Sailor Moon (1992)**\n",
      "   - [Korean OST](https://www.youtube.com/watch?v=qErQA12w0oA&pp=ygUWU2FpbG9yIE1vb24gS29yZWFuIE9TVA%3D%3D)\n",
      "\n",
      "4. **Dragon Ball Z (1989-1996)**\n",
      "   - [Korean OST](https://www.youtube.com/watch?v=vLanxuRgnoI&pp=ygUYRHJhZ29uIEJhbGwgWiBLb3JlYW4gT1NU)\n",
      "\n",
      "5. **Yu Yu Hakusho (1992-1995)**\n",
      "   - [Korean OST](https://www.youtube.com/watch?v=lRezaTVzkGk&pp=ygUYWXUgWXUgSGFrdXNobyBLb3JlYW4gT1NU)\n",
      "\n",
      "Enjoy the music!\n"
     ]
    }
   ],
   "source": [
    "response = agent_executor.invoke({\"input\": \"Find 5 popular anime from the 1990s and provide a YouTube link to the Korean OST.\"})\n",
    "print(response[\"output\"])"
   ]
  },
  {
   "cell_type": "code",
   "execution_count": 10,
   "metadata": {},
   "outputs": [
    {
     "name": "stdout",
     "output_type": "stream",
     "text": [
      "Here are the YouTube links to the Korean OSTs for the popular 1990s anime:\n",
      "\n",
      "1. **Neon Genesis Evangelion (1995)**\n",
      "   - [Korean OST](https://www.youtube.com/watch?v=eppqcuMJchQ&pp=ygUiTmVvbiBHZW5lc2lzIEV2YW5nZWxpb24gS29yZWFuIE9TVA%3D%3D)\n",
      "\n",
      "2. **Cowboy Bebop (1998)**\n",
      "   - [Korean OST](https://www.youtube.com/watch?v=v-F-bB6c5aU&pp=ygUXQ293Ym95IEJlYm9wIEtvcmVhbiBPU1Q%3D)\n",
      "\n",
      "3. **Sailor Moon (1992)**\n",
      "   - [Korean OST](https://www.youtube.com/watch?v=qErQA12w0oA&pp=ygUWU2FpbG9yIE1vb24gS29yZWFuIE9TVA%3D%3D)\n",
      "\n",
      "4. **Dragon Ball Z (1989-1996)**\n",
      "   - [Korean OST](https://www.youtube.com/watch?v=vLanxuRgnoI&pp=ygUYRHJhZ29uIEJhbGwgWiBLb3JlYW4gT1NU)\n",
      "\n",
      "5. **Yu Yu Hakusho (1992-1995)**\n",
      "   - [Korean OST](https://www.youtube.com/watch?v=lRezaTVzkGk&pp=ygUYWXUgWXUgSGFrdXNobyBLb3JlYW4gT1NU)\n",
      "\n",
      "Enjoy the music!\n"
     ]
    }
   ],
   "source": [
    "print(response[\"output\"])"
   ]
  },
  {
   "cell_type": "code",
   "execution_count": null,
   "metadata": {},
   "outputs": [],
   "source": []
  }
 ],
 "metadata": {
  "kernelspec": {
   "display_name": "wanted2",
   "language": "python",
   "name": "python3"
  },
  "language_info": {
   "codemirror_mode": {
    "name": "ipython",
    "version": 3
   },
   "file_extension": ".py",
   "mimetype": "text/x-python",
   "name": "python",
   "nbconvert_exporter": "python",
   "pygments_lexer": "ipython3",
   "version": "3.11.9"
  }
 },
 "nbformat": 4,
 "nbformat_minor": 2
}
